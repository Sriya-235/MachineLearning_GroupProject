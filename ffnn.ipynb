{
 "cells": [
  {
   "cell_type": "markdown",
   "metadata": {},
   "source": [
    "## Simple Feed Forward Neural Network\n",
    "- Try simple one first, then move to complex one"
   ]
  },
  {
   "cell_type": "code",
   "execution_count": 1,
   "metadata": {},
   "outputs": [],
   "source": [
    "import numpy as np\n",
    "import matplotlib.pyplot as plt\n",
    "from sklearn.metrics import confusion_matrix, accuracy_score\n",
    "from sklearn.preprocessing import OneHotEncoder\n",
    "from torch.utils.data import DataLoader\n",
    "import torchvision.transforms as transforms\n",
    "import torchvision.datasets as datasets"
   ]
  },
  {
   "cell_type": "code",
   "execution_count": 2,
   "metadata": {},
   "outputs": [],
   "source": [
    "# Activation Functions\n",
    "def sigmoid(x):\n",
    "    return 1 / (1 + np.exp(-x))\n",
    "\n",
    "def sigmoid_derivative(x):\n",
    "    return x * (1 - x)\n",
    "\n",
    "def softmax(x):\n",
    "    exp_x = np.exp(x - np.max(x, axis=1, keepdims=True))\n",
    "    return exp_x / np.sum(exp_x, axis=1, keepdims=True)\n",
    "\n",
    "# Loss Function\n",
    "def cross_entropy_loss(y_true, y_pred):\n",
    "    return -np.mean(np.sum(y_true * np.log(y_pred + 1e-8), axis=1))\n",
    "\n",
    "# Forward Propagation\n",
    "def forward_propagation(X, weights, biases):\n",
    "    activations = [X]\n",
    "    z_values = []\n",
    "    for w, b in zip(weights, biases):\n",
    "        z = np.dot(activations[-1], w) + b\n",
    "        z_values.append(z)\n",
    "        if w is not weights[-1]:  # For hidden layers\n",
    "            activations.append(sigmoid(z))\n",
    "        else:  # For output layer\n",
    "            activations.append(softmax(z))\n",
    "    return activations, z_values\n",
    "\n",
    "# Backward Propagation\n",
    "def backward_propagation(y_true, activations, z_values, weights):\n",
    "    gradients_w = []\n",
    "    gradients_b = []\n",
    "    m = y_true.shape[0]\n",
    "    dz = activations[-1] - y_true  # Output layer delta\n",
    "\n",
    "    for i in reversed(range(len(weights))):\n",
    "        dw = np.dot(activations[i].T, dz) / m\n",
    "        db = np.sum(dz, axis=0, keepdims=True) / m\n",
    "        gradients_w.insert(0, dw)\n",
    "        gradients_b.insert(0, db)\n",
    "\n",
    "        if i != 0:  # Skip for input layer\n",
    "            dz = np.dot(dz, weights[i].T) * sigmoid_derivative(activations[i])\n",
    "\n",
    "    return gradients_w, gradients_b\n",
    "\n",
    "# Initialize Weights and Biases\n",
    "def initialize_network(input_size, hidden_layers, output_size):\n",
    "    layers = [input_size] + hidden_layers + [output_size]\n",
    "    weights = [np.random.randn(layers[i], layers[i+1]) * 0.01 for i in range(len(layers)-1)]\n",
    "    biases = [np.zeros((1, layer)) for layer in layers[1:]]\n",
    "    return weights, biases\n",
    "\n",
    "# Training Function\n",
    "def train_network(X_train, y_train, X_val, y_val, input_size, hidden_layers, output_size, epochs, learning_rate):\n",
    "    weights, biases = initialize_network(input_size, hidden_layers, output_size)\n",
    "    train_losses, val_losses = [], []\n",
    "\n",
    "    for epoch in range(epochs):\n",
    "        # Forward Propagation\n",
    "        activations, z_values = forward_propagation(X_train, weights, biases)\n",
    "\n",
    "        # Compute Loss\n",
    "        train_loss = cross_entropy_loss(y_train, activations[-1])\n",
    "        train_losses.append(train_loss)\n",
    "\n",
    "        # Backward Propagation\n",
    "        gradients_w, gradients_b = backward_propagation(y_train, activations, z_values, weights)\n",
    "\n",
    "        # Update Weights and Biases\n",
    "        for i in range(len(weights)):\n",
    "            weights[i] -= learning_rate * gradients_w[i]\n",
    "            biases[i] -= learning_rate * gradients_b[i]\n",
    "\n",
    "        # Validation Loss\n",
    "        val_activations, _ = forward_propagation(X_val, weights, biases)\n",
    "        val_loss = cross_entropy_loss(y_val, val_activations[-1])\n",
    "        val_losses.append(val_loss)\n",
    "\n",
    "        # Print progress\n",
    "        if epoch % 10 == 0 or epoch == epochs - 1:\n",
    "            print(f\"Epoch {epoch + 1}/{epochs} - Train Loss: {train_loss:.4f} - Val Loss: {val_loss:.4f}\")\n",
    "\n",
    "    return weights, biases, train_losses, val_losses\n",
    "\n",
    "# Evaluation Function\n",
    "def evaluate_model(X_test, y_test, weights, biases):\n",
    "    activations, _ = forward_propagation(X_test, weights, biases)\n",
    "    y_pred = np.argmax(activations[-1], axis=1)\n",
    "    y_true = np.argmax(y_test, axis=1)\n",
    "    accuracy = accuracy_score(y_true, y_pred)\n",
    "    conf_matrix = confusion_matrix(y_true, y_pred)\n",
    "    return accuracy, conf_matrix\n"
   ]
  },
  {
   "cell_type": "code",
   "execution_count": 4,
   "metadata": {},
   "outputs": [
    {
     "name": "stdout",
     "output_type": "stream",
     "text": [
      "Epoch 1/50 - Train Loss: 2.3040 - Val Loss: 2.3025\n",
      "Epoch 11/50 - Train Loss: 2.3012 - Val Loss: 2.3014\n",
      "Epoch 21/50 - Train Loss: 2.3011 - Val Loss: 2.3015\n",
      "Epoch 31/50 - Train Loss: 2.3011 - Val Loss: 2.3015\n",
      "Epoch 41/50 - Train Loss: 2.3011 - Val Loss: 2.3015\n",
      "Epoch 50/50 - Train Loss: 2.3011 - Val Loss: 2.3015\n",
      "Test Accuracy: 0.1135\n",
      "Confusion Matrix:\n",
      "[[   0  980    0    0    0    0    0    0    0    0]\n",
      " [   0 1135    0    0    0    0    0    0    0    0]\n",
      " [   0 1032    0    0    0    0    0    0    0    0]\n",
      " [   0 1010    0    0    0    0    0    0    0    0]\n",
      " [   0  982    0    0    0    0    0    0    0    0]\n",
      " [   0  892    0    0    0    0    0    0    0    0]\n",
      " [   0  958    0    0    0    0    0    0    0    0]\n",
      " [   0 1028    0    0    0    0    0    0    0    0]\n",
      " [   0  974    0    0    0    0    0    0    0    0]\n",
      " [   0 1009    0    0    0    0    0    0    0    0]]\n"
     ]
    },
    {
     "data": {
      "image/png": "[encoded data removed]",
      "text/plain": [
       "<Figure size 640x480 with 1 Axes>"
      ]
     },
     "metadata": {},
     "output_type": "display_data"
    }
   ],
   "source": [
    "if __name__ == \"__main__\":\n",
    "    # Load MNIST Dataset using torchvision\n",
    "    transform = transforms.Compose([transforms.ToTensor(), transforms.Normalize((0.5,), (0.5,))])\n",
    "\n",
    "    train_dataset = datasets.MNIST(root='../data', train=True, transform=transform, download=True)\n",
    "    test_dataset = datasets.MNIST(root='../data', train=False, transform=transform, download=True)\n",
    "\n",
    "    # Convert to numpy arrays\n",
    "    X_train = train_dataset.data.numpy().reshape(-1, 28*28) / 255.0\n",
    "    y_train = train_dataset.targets.numpy().reshape(-1, 1)\n",
    "\n",
    "    X_test = test_dataset.data.numpy().reshape(-1, 28*28) / 255.0\n",
    "    y_test = test_dataset.targets.numpy().reshape(-1, 1)\n",
    "\n",
    "    # One-Hot Encode Labels\n",
    "    # encoder = OneHotEncoder(sparse=False)\n",
    "    encoder = OneHotEncoder(sparse_output=False)\n",
    "    y_train_encoded = encoder.fit_transform(y_train)\n",
    "    y_test_encoded = encoder.transform(y_test)\n",
    "\n",
    "    # Split Training and Validation Data\n",
    "    from sklearn.model_selection import train_test_split\n",
    "    X_train, X_val, y_train, y_val = train_test_split(X_train, y_train_encoded, test_size=0.2, random_state=42)\n",
    "\n",
    "    # Hyperparameters\n",
    "    input_size = X_train.shape[1]\n",
    "    hidden_layers = [128, 64]  # Two hidden layers with 128 and 64 neurons\n",
    "    output_size = y_train.shape[1]\n",
    "    epochs = 50\n",
    "    learning_rate = 0.1\n",
    "\n",
    "    # Train the Network\n",
    "    weights, biases, train_losses, val_losses = train_network(\n",
    "        X_train, y_train, X_val, y_val, input_size, hidden_layers, output_size, epochs, learning_rate\n",
    "    )\n",
    "\n",
    "    # Evaluate the Network\n",
    "    accuracy, conf_matrix = evaluate_model(X_test, y_test_encoded, weights, biases)\n",
    "    print(f\"Test Accuracy: {accuracy:.4f}\")\n",
    "    print(\"Confusion Matrix:\")\n",
    "    print(conf_matrix)\n",
    "\n",
    "    # Plot Losses\n",
    "    plt.figure()\n",
    "    plt.plot(train_losses, label=\"Train Loss\")\n",
    "    plt.plot(val_losses, label=\"Validation Loss\")\n",
    "    plt.xlabel(\"Epochs\")\n",
    "    plt.ylabel(\"Loss\")\n",
    "    plt.legend()\n",
    "    plt.title(\"Training and Validation Loss\")\n",
    "    plt.show()"
   ]
  },
  {
   "cell_type": "markdown",
   "metadata": {},
   "source": [
    "## Complex Model"
   ]
  },
  {
   "cell_type": "code",
   "execution_count": 7,
   "metadata": {},
   "outputs": [],
   "source": [
    "import torch\n",
    "import torch.nn as nn\n",
    "import torch.nn.functional as F\n",
    "from torch.utils.data import DataLoader\n",
    "import torchvision.transforms as transforms\n",
    "import torchvision.datasets as datasets\n",
    "from torch.optim.lr_scheduler import OneCycleLR\n",
    "import matplotlib.pyplot as plt\n",
    "from tqdm import tqdm\n",
    "import numpy as np"
   ]
  },
  {
   "cell_type": "code",
   "execution_count": 9,
   "metadata": {},
   "outputs": [
    {
     "name": "stdout",
     "output_type": "stream",
     "text": [
      "Using device: cpu\n"
     ]
    },
    {
     "name": "stderr",
     "output_type": "stream",
     "text": [
      "Epoch 1/100: 100%|██████████| 375/375 [00:30<00:00, 12.44it/s, train_loss=4.6715]\n"
     ]
    },
    {
     "name": "stdout",
     "output_type": "stream",
     "text": [
      "Epoch 1/100:\n",
      "Average Train Loss: 6.3772\n",
      "Average Val Loss: 1.8659\n",
      "Validation Accuracy: 58.08%\n"
     ]
    },
    {
     "name": "stderr",
     "output_type": "stream",
     "text": [
      "Epoch 2/100: 100%|██████████| 375/375 [00:28<00:00, 13.28it/s, train_loss=3.3501]\n"
     ]
    },
    {
     "name": "stdout",
     "output_type": "stream",
     "text": [
      "Epoch 2/100:\n",
      "Average Train Loss: 4.1964\n",
      "Average Val Loss: 1.4904\n",
      "Validation Accuracy: 66.84%\n"
     ]
    },
    {
     "name": "stderr",
     "output_type": "stream",
     "text": [
      "Epoch 3/100: 100%|██████████| 375/375 [00:28<00:00, 13.33it/s, train_loss=2.8172]\n"
     ]
    },
    {
     "name": "stdout",
     "output_type": "stream",
     "text": [
      "Epoch 3/100:\n",
      "Average Train Loss: 3.2466\n",
      "Average Val Loss: 1.1720\n",
      "Validation Accuracy: 72.92%\n"
     ]
    },
    {
     "name": "stderr",
     "output_type": "stream",
     "text": [
      "Epoch 4/100: 100%|██████████| 375/375 [00:28<00:00, 12.96it/s, train_loss=2.2363]\n"
     ]
    },
    {
     "name": "stdout",
     "output_type": "stream",
     "text": [
      "Epoch 4/100:\n",
      "Average Train Loss: 2.5263\n",
      "Average Val Loss: 0.8779\n",
      "Validation Accuracy: 77.70%\n"
     ]
    },
    {
     "name": "stderr",
     "output_type": "stream",
     "text": [
      "Epoch 5/100: 100%|██████████| 375/375 [00:28<00:00, 13.39it/s, train_loss=1.4897]\n"
     ]
    },
    {
     "name": "stdout",
     "output_type": "stream",
     "text": [
      "Epoch 5/100:\n",
      "Average Train Loss: 1.9257\n",
      "Average Val Loss: 0.6887\n",
      "Validation Accuracy: 80.83%\n"
     ]
    },
    {
     "name": "stderr",
     "output_type": "stream",
     "text": [
      "Epoch 6/100: 100%|██████████| 375/375 [00:27<00:00, 13.44it/s, train_loss=1.0601]\n"
     ]
    },
    {
     "name": "stdout",
     "output_type": "stream",
     "text": [
      "Epoch 6/100:\n",
      "Average Train Loss: 1.4448\n",
      "Average Val Loss: 0.5529\n",
      "Validation Accuracy: 83.72%\n"
     ]
    },
    {
     "name": "stderr",
     "output_type": "stream",
     "text": [
      "Epoch 7/100: 100%|██████████| 375/375 [00:28<00:00, 13.27it/s, train_loss=1.2300]\n"
     ]
    },
    {
     "name": "stdout",
     "output_type": "stream",
     "text": [
      "Epoch 7/100:\n",
      "Average Train Loss: 1.0817\n",
      "Average Val Loss: 0.4624\n",
      "Validation Accuracy: 85.60%\n"
     ]
    },
    {
     "name": "stderr",
     "output_type": "stream",
     "text": [
      "Epoch 8/100: 100%|██████████| 375/375 [00:27<00:00, 13.56it/s, train_loss=0.8912]\n"
     ]
    },
    {
     "name": "stdout",
     "output_type": "stream",
     "text": [
      "Epoch 8/100:\n",
      "Average Train Loss: 0.8535\n",
      "Average Val Loss: 0.3949\n",
      "Validation Accuracy: 87.56%\n"
     ]
    },
    {
     "name": "stderr",
     "output_type": "stream",
     "text": [
      "Epoch 9/100: 100%|██████████| 375/375 [00:28<00:00, 13.28it/s, train_loss=0.6186]\n"
     ]
    },
    {
     "name": "stdout",
     "output_type": "stream",
     "text": [
      "Epoch 9/100:\n",
      "Average Train Loss: 0.6910\n",
      "Average Val Loss: 0.3296\n",
      "Validation Accuracy: 89.83%\n"
     ]
    },
    {
     "name": "stderr",
     "output_type": "stream",
     "text": [
      "Epoch 10/100: 100%|██████████| 375/375 [00:27<00:00, 13.48it/s, train_loss=0.4146]\n"
     ]
    },
    {
     "name": "stdout",
     "output_type": "stream",
     "text": [
      "Epoch 10/100:\n",
      "Average Train Loss: 0.5681\n",
      "Average Val Loss: 0.2874\n",
      "Validation Accuracy: 91.15%\n"
     ]
    },
    {
     "name": "stderr",
     "output_type": "stream",
     "text": [
      "Epoch 11/100: 100%|██████████| 375/375 [00:28<00:00, 13.27it/s, train_loss=0.6205]\n"
     ]
    },
    {
     "name": "stdout",
     "output_type": "stream",
     "text": [
      "Epoch 11/100:\n",
      "Average Train Loss: 0.4769\n",
      "Average Val Loss: 0.2569\n",
      "Validation Accuracy: 92.12%\n"
     ]
    },
    {
     "name": "stderr",
     "output_type": "stream",
     "text": [
      "Epoch 12/100: 100%|██████████| 375/375 [00:29<00:00, 12.74it/s, train_loss=0.4910]\n"
     ]
    },
    {
     "name": "stdout",
     "output_type": "stream",
     "text": [
      "Epoch 12/100:\n",
      "Average Train Loss: 0.4239\n",
      "Average Val Loss: 0.2150\n",
      "Validation Accuracy: 93.18%\n"
     ]
    },
    {
     "name": "stderr",
     "output_type": "stream",
     "text": [
      "Epoch 13/100: 100%|██████████| 375/375 [00:29<00:00, 12.76it/s, train_loss=0.4762]\n"
     ]
    },
    {
     "name": "stdout",
     "output_type": "stream",
     "text": [
      "Epoch 13/100:\n",
      "Average Train Loss: 0.3766\n",
      "Average Val Loss: 0.1954\n",
      "Validation Accuracy: 93.66%\n"
     ]
    },
    {
     "name": "stderr",
     "output_type": "stream",
     "text": [
      "Epoch 14/100: 100%|██████████| 375/375 [00:29<00:00, 12.90it/s, train_loss=0.4205]\n"
     ]
    },
    {
     "name": "stdout",
     "output_type": "stream",
     "text": [
      "Epoch 14/100:\n",
      "Average Train Loss: 0.3312\n",
      "Average Val Loss: 0.1792\n",
      "Validation Accuracy: 94.45%\n"
     ]
    },
    {
     "name": "stderr",
     "output_type": "stream",
     "text": [
      "Epoch 15/100: 100%|██████████| 375/375 [00:28<00:00, 12.93it/s, train_loss=0.3203]\n"
     ]
    },
    {
     "name": "stdout",
     "output_type": "stream",
     "text": [
      "Epoch 15/100:\n",
      "Average Train Loss: 0.3041\n",
      "Average Val Loss: 0.1703\n",
      "Validation Accuracy: 94.67%\n"
     ]
    },
    {
     "name": "stderr",
     "output_type": "stream",
     "text": [
      "Epoch 16/100: 100%|██████████| 375/375 [00:30<00:00, 12.18it/s, train_loss=0.3180]\n"
     ]
    },
    {
     "name": "stdout",
     "output_type": "stream",
     "text": [
      "Epoch 16/100:\n",
      "Average Train Loss: 0.2749\n",
      "Average Val Loss: 0.1558\n",
      "Validation Accuracy: 94.97%\n"
     ]
    },
    {
     "name": "stderr",
     "output_type": "stream",
     "text": [
      "Epoch 17/100: 100%|██████████| 375/375 [00:28<00:00, 13.10it/s, train_loss=0.3032]\n"
     ]
    },
    {
     "name": "stdout",
     "output_type": "stream",
     "text": [
      "Epoch 17/100:\n",
      "Average Train Loss: 0.2572\n",
      "Average Val Loss: 0.1515\n",
      "Validation Accuracy: 94.97%\n"
     ]
    },
    {
     "name": "stderr",
     "output_type": "stream",
     "text": [
      "Epoch 18/100: 100%|██████████| 375/375 [00:28<00:00, 12.98it/s, train_loss=0.2531]\n"
     ]
    },
    {
     "name": "stdout",
     "output_type": "stream",
     "text": [
      "Epoch 18/100:\n",
      "Average Train Loss: 0.2446\n",
      "Average Val Loss: 0.1334\n",
      "Validation Accuracy: 95.81%\n"
     ]
    },
    {
     "name": "stderr",
     "output_type": "stream",
     "text": [
      "Epoch 19/100: 100%|██████████| 375/375 [00:28<00:00, 13.02it/s, train_loss=0.3112]\n"
     ]
    },
    {
     "name": "stdout",
     "output_type": "stream",
     "text": [
      "Epoch 19/100:\n",
      "Average Train Loss: 0.2372\n",
      "Average Val Loss: 0.1340\n",
      "Validation Accuracy: 95.85%\n"
     ]
    },
    {
     "name": "stderr",
     "output_type": "stream",
     "text": [
      "Epoch 20/100: 100%|██████████| 375/375 [00:29<00:00, 12.79it/s, train_loss=0.2591]\n"
     ]
    },
    {
     "name": "stdout",
     "output_type": "stream",
     "text": [
      "Epoch 20/100:\n",
      "Average Train Loss: 0.2189\n",
      "Average Val Loss: 0.1184\n",
      "Validation Accuracy: 96.36%\n"
     ]
    },
    {
     "name": "stderr",
     "output_type": "stream",
     "text": [
      "Epoch 21/100: 100%|██████████| 375/375 [00:30<00:00, 12.40it/s, train_loss=0.1610]\n"
     ]
    },
    {
     "name": "stdout",
     "output_type": "stream",
     "text": [
      "Epoch 21/100:\n",
      "Average Train Loss: 0.2080\n",
      "Average Val Loss: 0.1220\n",
      "Validation Accuracy: 96.17%\n"
     ]
    },
    {
     "name": "stderr",
     "output_type": "stream",
     "text": [
      "Epoch 22/100: 100%|██████████| 375/375 [00:30<00:00, 12.44it/s, train_loss=0.2137]\n"
     ]
    },
    {
     "name": "stdout",
     "output_type": "stream",
     "text": [
      "Epoch 22/100:\n",
      "Average Train Loss: 0.2030\n",
      "Average Val Loss: 0.1188\n",
      "Validation Accuracy: 96.22%\n"
     ]
    },
    {
     "name": "stderr",
     "output_type": "stream",
     "text": [
      "Epoch 23/100: 100%|██████████| 375/375 [00:29<00:00, 12.60it/s, train_loss=0.1729]\n"
     ]
    },
    {
     "name": "stdout",
     "output_type": "stream",
     "text": [
      "Epoch 23/100:\n",
      "Average Train Loss: 0.1888\n",
      "Average Val Loss: 0.1100\n",
      "Validation Accuracy: 96.50%\n"
     ]
    },
    {
     "name": "stderr",
     "output_type": "stream",
     "text": [
      "Epoch 24/100: 100%|██████████| 375/375 [00:29<00:00, 12.59it/s, train_loss=0.0826]\n"
     ]
    },
    {
     "name": "stdout",
     "output_type": "stream",
     "text": [
      "Epoch 24/100:\n",
      "Average Train Loss: 0.1834\n",
      "Average Val Loss: 0.1088\n",
      "Validation Accuracy: 96.62%\n"
     ]
    },
    {
     "name": "stderr",
     "output_type": "stream",
     "text": [
      "Epoch 25/100: 100%|██████████| 375/375 [00:29<00:00, 12.77it/s, train_loss=0.1954]\n"
     ]
    },
    {
     "name": "stdout",
     "output_type": "stream",
     "text": [
      "Epoch 25/100:\n",
      "Average Train Loss: 0.1762\n",
      "Average Val Loss: 0.1021\n",
      "Validation Accuracy: 96.81%\n"
     ]
    },
    {
     "name": "stderr",
     "output_type": "stream",
     "text": [
      "Epoch 26/100: 100%|██████████| 375/375 [00:28<00:00, 13.02it/s, train_loss=0.2857]\n"
     ]
    },
    {
     "name": "stdout",
     "output_type": "stream",
     "text": [
      "Epoch 26/100:\n",
      "Average Train Loss: 0.1736\n",
      "Average Val Loss: 0.0984\n",
      "Validation Accuracy: 97.06%\n"
     ]
    },
    {
     "name": "stderr",
     "output_type": "stream",
     "text": [
      "Epoch 27/100: 100%|██████████| 375/375 [00:29<00:00, 12.78it/s, train_loss=0.1204]\n"
     ]
    },
    {
     "name": "stdout",
     "output_type": "stream",
     "text": [
      "Epoch 27/100:\n",
      "Average Train Loss: 0.1643\n",
      "Average Val Loss: 0.1047\n",
      "Validation Accuracy: 96.72%\n"
     ]
    },
    {
     "name": "stderr",
     "output_type": "stream",
     "text": [
      "Epoch 28/100: 100%|██████████| 375/375 [00:28<00:00, 13.12it/s, train_loss=0.1934]\n"
     ]
    },
    {
     "name": "stdout",
     "output_type": "stream",
     "text": [
      "Epoch 28/100:\n",
      "Average Train Loss: 0.1609\n",
      "Average Val Loss: 0.0975\n",
      "Validation Accuracy: 96.97%\n"
     ]
    },
    {
     "name": "stderr",
     "output_type": "stream",
     "text": [
      "Epoch 29/100: 100%|██████████| 375/375 [00:28<00:00, 12.98it/s, train_loss=0.3817]\n"
     ]
    },
    {
     "name": "stdout",
     "output_type": "stream",
     "text": [
      "Epoch 29/100:\n",
      "Average Train Loss: 0.1575\n",
      "Average Val Loss: 0.0961\n",
      "Validation Accuracy: 96.99%\n"
     ]
    },
    {
     "name": "stderr",
     "output_type": "stream",
     "text": [
      "Epoch 30/100: 100%|██████████| 375/375 [00:28<00:00, 12.95it/s, train_loss=0.1934]\n"
     ]
    },
    {
     "name": "stdout",
     "output_type": "stream",
     "text": [
      "Epoch 30/100:\n",
      "Average Train Loss: 0.1537\n",
      "Average Val Loss: 0.0850\n",
      "Validation Accuracy: 97.37%\n"
     ]
    },
    {
     "name": "stderr",
     "output_type": "stream",
     "text": [
      "Epoch 31/100: 100%|██████████| 375/375 [00:28<00:00, 12.99it/s, train_loss=0.1802]\n"
     ]
    },
    {
     "name": "stdout",
     "output_type": "stream",
     "text": [
      "Epoch 31/100:\n",
      "Average Train Loss: 0.1411\n",
      "Average Val Loss: 0.0921\n",
      "Validation Accuracy: 97.21%\n"
     ]
    },
    {
     "name": "stderr",
     "output_type": "stream",
     "text": [
      "Epoch 32/100: 100%|██████████| 375/375 [00:29<00:00, 12.80it/s, train_loss=0.1918]\n"
     ]
    },
    {
     "name": "stdout",
     "output_type": "stream",
     "text": [
      "Epoch 32/100:\n",
      "Average Train Loss: 0.1380\n",
      "Average Val Loss: 0.0887\n",
      "Validation Accuracy: 97.24%\n"
     ]
    },
    {
     "name": "stderr",
     "output_type": "stream",
     "text": [
      "Epoch 33/100: 100%|██████████| 375/375 [00:28<00:00, 12.96it/s, train_loss=0.1905]\n"
     ]
    },
    {
     "name": "stdout",
     "output_type": "stream",
     "text": [
      "Epoch 33/100:\n",
      "Average Train Loss: 0.1357\n",
      "Average Val Loss: 0.0797\n",
      "Validation Accuracy: 97.60%\n"
     ]
    },
    {
     "name": "stderr",
     "output_type": "stream",
     "text": [
      "Epoch 34/100: 100%|██████████| 375/375 [00:28<00:00, 13.11it/s, train_loss=0.0598]\n"
     ]
    },
    {
     "name": "stdout",
     "output_type": "stream",
     "text": [
      "Epoch 34/100:\n",
      "Average Train Loss: 0.1332\n",
      "Average Val Loss: 0.0827\n",
      "Validation Accuracy: 97.38%\n"
     ]
    },
    {
     "name": "stderr",
     "output_type": "stream",
     "text": [
      "Epoch 35/100: 100%|██████████| 375/375 [00:29<00:00, 12.92it/s, train_loss=0.1655]\n"
     ]
    },
    {
     "name": "stdout",
     "output_type": "stream",
     "text": [
      "Epoch 35/100:\n",
      "Average Train Loss: 0.1274\n",
      "Average Val Loss: 0.0788\n",
      "Validation Accuracy: 97.58%\n"
     ]
    },
    {
     "name": "stderr",
     "output_type": "stream",
     "text": [
      "Epoch 36/100: 100%|██████████| 375/375 [00:29<00:00, 12.92it/s, train_loss=0.1356]\n"
     ]
    },
    {
     "name": "stdout",
     "output_type": "stream",
     "text": [
      "Epoch 36/100:\n",
      "Average Train Loss: 0.1268\n",
      "Average Val Loss: 0.0768\n",
      "Validation Accuracy: 97.56%\n"
     ]
    },
    {
     "name": "stderr",
     "output_type": "stream",
     "text": [
      "Epoch 37/100: 100%|██████████| 375/375 [00:28<00:00, 13.12it/s, train_loss=0.2317]\n"
     ]
    },
    {
     "name": "stdout",
     "output_type": "stream",
     "text": [
      "Epoch 37/100:\n",
      "Average Train Loss: 0.1227\n",
      "Average Val Loss: 0.0750\n",
      "Validation Accuracy: 97.75%\n"
     ]
    },
    {
     "name": "stderr",
     "output_type": "stream",
     "text": [
      "Epoch 38/100: 100%|██████████| 375/375 [00:29<00:00, 12.90it/s, train_loss=0.8277]\n"
     ]
    },
    {
     "name": "stdout",
     "output_type": "stream",
     "text": [
      "Epoch 38/100:\n",
      "Average Train Loss: 0.1187\n",
      "Average Val Loss: 0.0790\n",
      "Validation Accuracy: 97.36%\n"
     ]
    },
    {
     "name": "stderr",
     "output_type": "stream",
     "text": [
      "Epoch 39/100: 100%|██████████| 375/375 [00:29<00:00, 12.85it/s, train_loss=0.1115]\n"
     ]
    },
    {
     "name": "stdout",
     "output_type": "stream",
     "text": [
      "Epoch 39/100:\n",
      "Average Train Loss: 0.1218\n",
      "Average Val Loss: 0.0675\n",
      "Validation Accuracy: 97.96%\n"
     ]
    },
    {
     "name": "stderr",
     "output_type": "stream",
     "text": [
      "Epoch 40/100: 100%|██████████| 375/375 [00:28<00:00, 13.07it/s, train_loss=0.1182]\n"
     ]
    },
    {
     "name": "stdout",
     "output_type": "stream",
     "text": [
      "Epoch 40/100:\n",
      "Average Train Loss: 0.1145\n",
      "Average Val Loss: 0.0648\n",
      "Validation Accuracy: 98.03%\n"
     ]
    },
    {
     "name": "stderr",
     "output_type": "stream",
     "text": [
      "Epoch 41/100: 100%|██████████| 375/375 [00:29<00:00, 12.88it/s, train_loss=0.0943]\n"
     ]
    },
    {
     "name": "stdout",
     "output_type": "stream",
     "text": [
      "Epoch 41/100:\n",
      "Average Train Loss: 0.1083\n",
      "Average Val Loss: 0.0629\n",
      "Validation Accuracy: 97.98%\n"
     ]
    },
    {
     "name": "stderr",
     "output_type": "stream",
     "text": [
      "Epoch 42/100: 100%|██████████| 375/375 [00:29<00:00, 12.58it/s, train_loss=0.1267]\n"
     ]
    },
    {
     "name": "stdout",
     "output_type": "stream",
     "text": [
      "Epoch 42/100:\n",
      "Average Train Loss: 0.1095\n",
      "Average Val Loss: 0.0649\n",
      "Validation Accuracy: 97.91%\n"
     ]
    },
    {
     "name": "stderr",
     "output_type": "stream",
     "text": [
      "Epoch 43/100: 100%|██████████| 375/375 [00:29<00:00, 12.84it/s, train_loss=0.0910]\n"
     ]
    },
    {
     "name": "stdout",
     "output_type": "stream",
     "text": [
      "Epoch 43/100:\n",
      "Average Train Loss: 0.1073\n",
      "Average Val Loss: 0.0600\n",
      "Validation Accuracy: 98.19%\n"
     ]
    },
    {
     "name": "stderr",
     "output_type": "stream",
     "text": [
      "Epoch 44/100: 100%|██████████| 375/375 [00:28<00:00, 12.96it/s, train_loss=0.2040]\n"
     ]
    },
    {
     "name": "stdout",
     "output_type": "stream",
     "text": [
      "Epoch 44/100:\n",
      "Average Train Loss: 0.1012\n",
      "Average Val Loss: 0.0611\n",
      "Validation Accuracy: 98.01%\n"
     ]
    },
    {
     "name": "stderr",
     "output_type": "stream",
     "text": [
      "Epoch 45/100: 100%|██████████| 375/375 [00:28<00:00, 13.10it/s, train_loss=0.0548]\n"
     ]
    },
    {
     "name": "stdout",
     "output_type": "stream",
     "text": [
      "Epoch 45/100:\n",
      "Average Train Loss: 0.1001\n",
      "Average Val Loss: 0.0611\n",
      "Validation Accuracy: 98.04%\n"
     ]
    },
    {
     "name": "stderr",
     "output_type": "stream",
     "text": [
      "Epoch 46/100: 100%|██████████| 375/375 [00:29<00:00, 12.63it/s, train_loss=0.0479]\n"
     ]
    },
    {
     "name": "stdout",
     "output_type": "stream",
     "text": [
      "Epoch 46/100:\n",
      "Average Train Loss: 0.1026\n",
      "Average Val Loss: 0.0614\n",
      "Validation Accuracy: 98.07%\n"
     ]
    },
    {
     "name": "stderr",
     "output_type": "stream",
     "text": [
      "Epoch 47/100: 100%|██████████| 375/375 [00:29<00:00, 12.93it/s, train_loss=0.0605]\n"
     ]
    },
    {
     "name": "stdout",
     "output_type": "stream",
     "text": [
      "Epoch 47/100:\n",
      "Average Train Loss: 0.0979\n",
      "Average Val Loss: 0.0590\n",
      "Validation Accuracy: 98.12%\n"
     ]
    },
    {
     "name": "stderr",
     "output_type": "stream",
     "text": [
      "Epoch 48/100: 100%|██████████| 375/375 [00:29<00:00, 12.92it/s, train_loss=0.0886]\n"
     ]
    },
    {
     "name": "stdout",
     "output_type": "stream",
     "text": [
      "Epoch 48/100:\n",
      "Average Train Loss: 0.0951\n",
      "Average Val Loss: 0.0644\n",
      "Validation Accuracy: 98.02%\n"
     ]
    },
    {
     "name": "stderr",
     "output_type": "stream",
     "text": [
      "Epoch 49/100: 100%|██████████| 375/375 [00:29<00:00, 12.92it/s, train_loss=0.0702]\n"
     ]
    },
    {
     "name": "stdout",
     "output_type": "stream",
     "text": [
      "Epoch 49/100:\n",
      "Average Train Loss: 0.0926\n",
      "Average Val Loss: 0.0564\n",
      "Validation Accuracy: 98.07%\n"
     ]
    },
    {
     "name": "stderr",
     "output_type": "stream",
     "text": [
      "Epoch 50/100: 100%|██████████| 375/375 [00:28<00:00, 12.99it/s, train_loss=0.1215]\n"
     ]
    },
    {
     "name": "stdout",
     "output_type": "stream",
     "text": [
      "Epoch 50/100:\n",
      "Average Train Loss: 0.0887\n",
      "Average Val Loss: 0.0603\n",
      "Validation Accuracy: 98.16%\n"
     ]
    },
    {
     "name": "stderr",
     "output_type": "stream",
     "text": [
      "Epoch 51/100: 100%|██████████| 375/375 [00:28<00:00, 12.95it/s, train_loss=0.0837]\n"
     ]
    },
    {
     "name": "stdout",
     "output_type": "stream",
     "text": [
      "Epoch 51/100:\n",
      "Average Train Loss: 0.0920\n",
      "Average Val Loss: 0.0578\n",
      "Validation Accuracy: 98.20%\n"
     ]
    },
    {
     "name": "stderr",
     "output_type": "stream",
     "text": [
      "Epoch 52/100: 100%|██████████| 375/375 [00:28<00:00, 13.03it/s, train_loss=0.2005]\n"
     ]
    },
    {
     "name": "stdout",
     "output_type": "stream",
     "text": [
      "Epoch 52/100:\n",
      "Average Train Loss: 0.0853\n",
      "Average Val Loss: 0.0549\n",
      "Validation Accuracy: 98.28%\n"
     ]
    },
    {
     "name": "stderr",
     "output_type": "stream",
     "text": [
      "Epoch 53/100: 100%|██████████| 375/375 [00:28<00:00, 13.08it/s, train_loss=0.0273]\n"
     ]
    },
    {
     "name": "stdout",
     "output_type": "stream",
     "text": [
      "Epoch 53/100:\n",
      "Average Train Loss: 0.0882\n",
      "Average Val Loss: 0.0549\n",
      "Validation Accuracy: 98.24%\n"
     ]
    },
    {
     "name": "stderr",
     "output_type": "stream",
     "text": [
      "Epoch 54/100: 100%|██████████| 375/375 [00:29<00:00, 12.60it/s, train_loss=0.0412]\n"
     ]
    },
    {
     "name": "stdout",
     "output_type": "stream",
     "text": [
      "Epoch 54/100:\n",
      "Average Train Loss: 0.0873\n",
      "Average Val Loss: 0.0511\n",
      "Validation Accuracy: 98.37%\n"
     ]
    },
    {
     "name": "stderr",
     "output_type": "stream",
     "text": [
      "Epoch 55/100: 100%|██████████| 375/375 [00:30<00:00, 12.22it/s, train_loss=0.0454]\n"
     ]
    },
    {
     "name": "stdout",
     "output_type": "stream",
     "text": [
      "Epoch 55/100:\n",
      "Average Train Loss: 0.0840\n",
      "Average Val Loss: 0.0548\n",
      "Validation Accuracy: 98.35%\n"
     ]
    },
    {
     "name": "stderr",
     "output_type": "stream",
     "text": [
      "Epoch 56/100: 100%|██████████| 375/375 [00:29<00:00, 12.60it/s, train_loss=0.0508]\n"
     ]
    },
    {
     "name": "stdout",
     "output_type": "stream",
     "text": [
      "Epoch 56/100:\n",
      "Average Train Loss: 0.0835\n",
      "Average Val Loss: 0.0557\n",
      "Validation Accuracy: 98.23%\n"
     ]
    },
    {
     "name": "stderr",
     "output_type": "stream",
     "text": [
      "Epoch 57/100: 100%|██████████| 375/375 [00:30<00:00, 12.33it/s, train_loss=0.0641]\n"
     ]
    },
    {
     "name": "stdout",
     "output_type": "stream",
     "text": [
      "Epoch 57/100:\n",
      "Average Train Loss: 0.0791\n",
      "Average Val Loss: 0.0535\n",
      "Validation Accuracy: 98.28%\n"
     ]
    },
    {
     "name": "stderr",
     "output_type": "stream",
     "text": [
      "Epoch 58/100: 100%|██████████| 375/375 [00:30<00:00, 12.30it/s, train_loss=0.0685]\n"
     ]
    },
    {
     "name": "stdout",
     "output_type": "stream",
     "text": [
      "Epoch 58/100:\n",
      "Average Train Loss: 0.0768\n",
      "Average Val Loss: 0.0560\n",
      "Validation Accuracy: 98.28%\n"
     ]
    },
    {
     "name": "stderr",
     "output_type": "stream",
     "text": [
      "Epoch 59/100: 100%|██████████| 375/375 [00:30<00:00, 12.36it/s, train_loss=0.0830]\n"
     ]
    },
    {
     "name": "stdout",
     "output_type": "stream",
     "text": [
      "Epoch 59/100:\n",
      "Average Train Loss: 0.0763\n",
      "Average Val Loss: 0.0499\n",
      "Validation Accuracy: 98.47%\n"
     ]
    },
    {
     "name": "stderr",
     "output_type": "stream",
     "text": [
      "Epoch 60/100: 100%|██████████| 375/375 [00:29<00:00, 12.55it/s, train_loss=0.0447]\n"
     ]
    },
    {
     "name": "stdout",
     "output_type": "stream",
     "text": [
      "Epoch 60/100:\n",
      "Average Train Loss: 0.0751\n",
      "Average Val Loss: 0.0525\n",
      "Validation Accuracy: 98.38%\n"
     ]
    },
    {
     "name": "stderr",
     "output_type": "stream",
     "text": [
      "Epoch 61/100: 100%|██████████| 375/375 [00:31<00:00, 12.09it/s, train_loss=0.0561]\n"
     ]
    },
    {
     "name": "stdout",
     "output_type": "stream",
     "text": [
      "Epoch 61/100:\n",
      "Average Train Loss: 0.0722\n",
      "Average Val Loss: 0.0516\n",
      "Validation Accuracy: 98.41%\n"
     ]
    },
    {
     "name": "stderr",
     "output_type": "stream",
     "text": [
      "Epoch 62/100: 100%|██████████| 375/375 [00:30<00:00, 12.22it/s, train_loss=0.1125]\n"
     ]
    },
    {
     "name": "stdout",
     "output_type": "stream",
     "text": [
      "Epoch 62/100:\n",
      "Average Train Loss: 0.0740\n",
      "Average Val Loss: 0.0522\n",
      "Validation Accuracy: 98.34%\n"
     ]
    },
    {
     "name": "stderr",
     "output_type": "stream",
     "text": [
      "Epoch 63/100: 100%|██████████| 375/375 [00:30<00:00, 12.34it/s, train_loss=0.0929]\n"
     ]
    },
    {
     "name": "stdout",
     "output_type": "stream",
     "text": [
      "Epoch 63/100:\n",
      "Average Train Loss: 0.0712\n",
      "Average Val Loss: 0.0458\n",
      "Validation Accuracy: 98.60%\n"
     ]
    },
    {
     "name": "stderr",
     "output_type": "stream",
     "text": [
      "Epoch 64/100: 100%|██████████| 375/375 [00:31<00:00, 11.81it/s, train_loss=0.0579]\n"
     ]
    },
    {
     "name": "stdout",
     "output_type": "stream",
     "text": [
      "Epoch 64/100:\n",
      "Average Train Loss: 0.0687\n",
      "Average Val Loss: 0.0500\n",
      "Validation Accuracy: 98.53%\n"
     ]
    },
    {
     "name": "stderr",
     "output_type": "stream",
     "text": [
      "Epoch 65/100: 100%|██████████| 375/375 [00:29<00:00, 12.71it/s, train_loss=0.0795]\n"
     ]
    },
    {
     "name": "stdout",
     "output_type": "stream",
     "text": [
      "Epoch 65/100:\n",
      "Average Train Loss: 0.0674\n",
      "Average Val Loss: 0.0427\n",
      "Validation Accuracy: 98.83%\n"
     ]
    },
    {
     "name": "stderr",
     "output_type": "stream",
     "text": [
      "Epoch 66/100: 100%|██████████| 375/375 [00:29<00:00, 12.54it/s, train_loss=0.1277]\n"
     ]
    },
    {
     "name": "stdout",
     "output_type": "stream",
     "text": [
      "Epoch 66/100:\n",
      "Average Train Loss: 0.0673\n",
      "Average Val Loss: 0.0469\n",
      "Validation Accuracy: 98.68%\n"
     ]
    },
    {
     "name": "stderr",
     "output_type": "stream",
     "text": [
      "Epoch 67/100: 100%|██████████| 375/375 [00:29<00:00, 12.66it/s, train_loss=0.0391]\n"
     ]
    },
    {
     "name": "stdout",
     "output_type": "stream",
     "text": [
      "Epoch 67/100:\n",
      "Average Train Loss: 0.0646\n",
      "Average Val Loss: 0.0449\n",
      "Validation Accuracy: 98.67%\n"
     ]
    },
    {
     "name": "stderr",
     "output_type": "stream",
     "text": [
      "Epoch 68/100: 100%|██████████| 375/375 [00:30<00:00, 12.49it/s, train_loss=0.0445]\n"
     ]
    },
    {
     "name": "stdout",
     "output_type": "stream",
     "text": [
      "Epoch 68/100:\n",
      "Average Train Loss: 0.0649\n",
      "Average Val Loss: 0.0431\n",
      "Validation Accuracy: 98.69%\n"
     ]
    },
    {
     "name": "stderr",
     "output_type": "stream",
     "text": [
      "Epoch 69/100: 100%|██████████| 375/375 [00:29<00:00, 12.52it/s, train_loss=0.0710]\n"
     ]
    },
    {
     "name": "stdout",
     "output_type": "stream",
     "text": [
      "Epoch 69/100:\n",
      "Average Train Loss: 0.0640\n",
      "Average Val Loss: 0.0420\n",
      "Validation Accuracy: 98.66%\n"
     ]
    },
    {
     "name": "stderr",
     "output_type": "stream",
     "text": [
      "Epoch 70/100: 100%|██████████| 375/375 [00:29<00:00, 12.64it/s, train_loss=0.0806]\n"
     ]
    },
    {
     "name": "stdout",
     "output_type": "stream",
     "text": [
      "Epoch 70/100:\n",
      "Average Train Loss: 0.0613\n",
      "Average Val Loss: 0.0434\n",
      "Validation Accuracy: 98.67%\n"
     ]
    },
    {
     "name": "stderr",
     "output_type": "stream",
     "text": [
      "Epoch 71/100: 100%|██████████| 375/375 [00:30<00:00, 12.45it/s, train_loss=0.0312]\n"
     ]
    },
    {
     "name": "stdout",
     "output_type": "stream",
     "text": [
      "Epoch 71/100:\n",
      "Average Train Loss: 0.0583\n",
      "Average Val Loss: 0.0421\n",
      "Validation Accuracy: 98.69%\n"
     ]
    },
    {
     "name": "stderr",
     "output_type": "stream",
     "text": [
      "Epoch 72/100: 100%|██████████| 375/375 [00:29<00:00, 12.68it/s, train_loss=0.0359]\n"
     ]
    },
    {
     "name": "stdout",
     "output_type": "stream",
     "text": [
      "Epoch 72/100:\n",
      "Average Train Loss: 0.0558\n",
      "Average Val Loss: 0.0400\n",
      "Validation Accuracy: 98.91%\n"
     ]
    },
    {
     "name": "stderr",
     "output_type": "stream",
     "text": [
      "Epoch 73/100: 100%|██████████| 375/375 [00:29<00:00, 12.57it/s, train_loss=0.0904]\n"
     ]
    },
    {
     "name": "stdout",
     "output_type": "stream",
     "text": [
      "Epoch 73/100:\n",
      "Average Train Loss: 0.0564\n",
      "Average Val Loss: 0.0402\n",
      "Validation Accuracy: 98.76%\n"
     ]
    },
    {
     "name": "stderr",
     "output_type": "stream",
     "text": [
      "Epoch 74/100: 100%|██████████| 375/375 [00:29<00:00, 12.61it/s, train_loss=0.0197]\n"
     ]
    },
    {
     "name": "stdout",
     "output_type": "stream",
     "text": [
      "Epoch 74/100:\n",
      "Average Train Loss: 0.0579\n",
      "Average Val Loss: 0.0394\n",
      "Validation Accuracy: 98.84%\n"
     ]
    },
    {
     "name": "stderr",
     "output_type": "stream",
     "text": [
      "Epoch 75/100: 100%|██████████| 375/375 [00:29<00:00, 12.68it/s, train_loss=0.0725]\n"
     ]
    },
    {
     "name": "stdout",
     "output_type": "stream",
     "text": [
      "Epoch 75/100:\n",
      "Average Train Loss: 0.0539\n",
      "Average Val Loss: 0.0419\n",
      "Validation Accuracy: 98.65%\n"
     ]
    },
    {
     "name": "stderr",
     "output_type": "stream",
     "text": [
      "Epoch 76/100: 100%|██████████| 375/375 [00:29<00:00, 12.67it/s, train_loss=0.0176]\n"
     ]
    },
    {
     "name": "stdout",
     "output_type": "stream",
     "text": [
      "Epoch 76/100:\n",
      "Average Train Loss: 0.0571\n",
      "Average Val Loss: 0.0410\n",
      "Validation Accuracy: 98.71%\n"
     ]
    },
    {
     "name": "stderr",
     "output_type": "stream",
     "text": [
      "Epoch 77/100: 100%|██████████| 375/375 [00:29<00:00, 12.53it/s, train_loss=0.0416]\n"
     ]
    },
    {
     "name": "stdout",
     "output_type": "stream",
     "text": [
      "Epoch 77/100:\n",
      "Average Train Loss: 0.0542\n",
      "Average Val Loss: 0.0387\n",
      "Validation Accuracy: 98.72%\n"
     ]
    },
    {
     "name": "stderr",
     "output_type": "stream",
     "text": [
      "Epoch 78/100: 100%|██████████| 375/375 [00:29<00:00, 12.69it/s, train_loss=0.0514]\n"
     ]
    },
    {
     "name": "stdout",
     "output_type": "stream",
     "text": [
      "Epoch 78/100:\n",
      "Average Train Loss: 0.0546\n",
      "Average Val Loss: 0.0382\n",
      "Validation Accuracy: 98.83%\n"
     ]
    },
    {
     "name": "stderr",
     "output_type": "stream",
     "text": [
      "Epoch 79/100: 100%|██████████| 375/375 [00:29<00:00, 12.74it/s, train_loss=0.0176]\n"
     ]
    },
    {
     "name": "stdout",
     "output_type": "stream",
     "text": [
      "Epoch 79/100:\n",
      "Average Train Loss: 0.0532\n",
      "Average Val Loss: 0.0387\n",
      "Validation Accuracy: 98.90%\n"
     ]
    },
    {
     "name": "stderr",
     "output_type": "stream",
     "text": [
      "Epoch 80/100: 100%|██████████| 375/375 [00:29<00:00, 12.63it/s, train_loss=0.1148]\n"
     ]
    },
    {
     "name": "stdout",
     "output_type": "stream",
     "text": [
      "Epoch 80/100:\n",
      "Average Train Loss: 0.0543\n",
      "Average Val Loss: 0.0403\n",
      "Validation Accuracy: 98.87%\n"
     ]
    },
    {
     "name": "stderr",
     "output_type": "stream",
     "text": [
      "Epoch 81/100: 100%|██████████| 375/375 [00:29<00:00, 12.57it/s, train_loss=0.0268]\n"
     ]
    },
    {
     "name": "stdout",
     "output_type": "stream",
     "text": [
      "Epoch 81/100:\n",
      "Average Train Loss: 0.0507\n",
      "Average Val Loss: 0.0390\n",
      "Validation Accuracy: 98.85%\n"
     ]
    },
    {
     "name": "stderr",
     "output_type": "stream",
     "text": [
      "Epoch 82/100: 100%|██████████| 375/375 [00:29<00:00, 12.70it/s, train_loss=0.0834]\n"
     ]
    },
    {
     "name": "stdout",
     "output_type": "stream",
     "text": [
      "Epoch 82/100:\n",
      "Average Train Loss: 0.0524\n",
      "Average Val Loss: 0.0399\n",
      "Validation Accuracy: 98.85%\n"
     ]
    },
    {
     "name": "stderr",
     "output_type": "stream",
     "text": [
      "Epoch 83/100: 100%|██████████| 375/375 [00:29<00:00, 12.53it/s, train_loss=0.1115]\n"
     ]
    },
    {
     "name": "stdout",
     "output_type": "stream",
     "text": [
      "Epoch 83/100:\n",
      "Average Train Loss: 0.0497\n",
      "Average Val Loss: 0.0393\n",
      "Validation Accuracy: 98.83%\n"
     ]
    },
    {
     "name": "stderr",
     "output_type": "stream",
     "text": [
      "Epoch 84/100: 100%|██████████| 375/375 [00:29<00:00, 12.63it/s, train_loss=0.0074]\n"
     ]
    },
    {
     "name": "stdout",
     "output_type": "stream",
     "text": [
      "Epoch 84/100:\n",
      "Average Train Loss: 0.0474\n",
      "Average Val Loss: 0.0371\n",
      "Validation Accuracy: 98.92%\n"
     ]
    },
    {
     "name": "stderr",
     "output_type": "stream",
     "text": [
      "Epoch 85/100: 100%|██████████| 375/375 [00:29<00:00, 12.77it/s, train_loss=0.0346]\n"
     ]
    },
    {
     "name": "stdout",
     "output_type": "stream",
     "text": [
      "Epoch 85/100:\n",
      "Average Train Loss: 0.0493\n",
      "Average Val Loss: 0.0372\n",
      "Validation Accuracy: 98.87%\n"
     ]
    },
    {
     "name": "stderr",
     "output_type": "stream",
     "text": [
      "Epoch 86/100: 100%|██████████| 375/375 [00:29<00:00, 12.75it/s, train_loss=0.0720]\n"
     ]
    },
    {
     "name": "stdout",
     "output_type": "stream",
     "text": [
      "Epoch 86/100:\n",
      "Average Train Loss: 0.0466\n",
      "Average Val Loss: 0.0375\n",
      "Validation Accuracy: 98.85%\n"
     ]
    },
    {
     "name": "stderr",
     "output_type": "stream",
     "text": [
      "Epoch 87/100: 100%|██████████| 375/375 [00:29<00:00, 12.57it/s, train_loss=0.0554]\n"
     ]
    },
    {
     "name": "stdout",
     "output_type": "stream",
     "text": [
      "Epoch 87/100:\n",
      "Average Train Loss: 0.0480\n",
      "Average Val Loss: 0.0351\n",
      "Validation Accuracy: 98.94%\n"
     ]
    },
    {
     "name": "stderr",
     "output_type": "stream",
     "text": [
      "Epoch 88/100: 100%|██████████| 375/375 [00:29<00:00, 12.59it/s, train_loss=0.0773]\n"
     ]
    },
    {
     "name": "stdout",
     "output_type": "stream",
     "text": [
      "Epoch 88/100:\n",
      "Average Train Loss: 0.0462\n",
      "Average Val Loss: 0.0371\n",
      "Validation Accuracy: 98.90%\n"
     ]
    },
    {
     "name": "stderr",
     "output_type": "stream",
     "text": [
      "Epoch 89/100: 100%|██████████| 375/375 [00:30<00:00, 12.49it/s, train_loss=0.0341]\n"
     ]
    },
    {
     "name": "stdout",
     "output_type": "stream",
     "text": [
      "Epoch 89/100:\n",
      "Average Train Loss: 0.0459\n",
      "Average Val Loss: 0.0360\n",
      "Validation Accuracy: 98.89%\n"
     ]
    },
    {
     "name": "stderr",
     "output_type": "stream",
     "text": [
      "Epoch 90/100: 100%|██████████| 375/375 [00:29<00:00, 12.62it/s, train_loss=0.0251]\n"
     ]
    },
    {
     "name": "stdout",
     "output_type": "stream",
     "text": [
      "Epoch 90/100:\n",
      "Average Train Loss: 0.0445\n",
      "Average Val Loss: 0.0373\n",
      "Validation Accuracy: 98.88%\n"
     ]
    },
    {
     "name": "stderr",
     "output_type": "stream",
     "text": [
      "Epoch 91/100: 100%|██████████| 375/375 [00:30<00:00, 12.41it/s, train_loss=0.0542]\n"
     ]
    },
    {
     "name": "stdout",
     "output_type": "stream",
     "text": [
      "Epoch 91/100:\n",
      "Average Train Loss: 0.0449\n",
      "Average Val Loss: 0.0350\n",
      "Validation Accuracy: 98.89%\n"
     ]
    },
    {
     "name": "stderr",
     "output_type": "stream",
     "text": [
      "Epoch 92/100: 100%|██████████| 375/375 [00:29<00:00, 12.53it/s, train_loss=0.0531]\n"
     ]
    },
    {
     "name": "stdout",
     "output_type": "stream",
     "text": [
      "Epoch 92/100:\n",
      "Average Train Loss: 0.0436\n",
      "Average Val Loss: 0.0379\n",
      "Validation Accuracy: 98.78%\n"
     ]
    },
    {
     "name": "stderr",
     "output_type": "stream",
     "text": [
      "Epoch 93/100: 100%|██████████| 375/375 [00:29<00:00, 12.57it/s, train_loss=0.0368]\n"
     ]
    },
    {
     "name": "stdout",
     "output_type": "stream",
     "text": [
      "Epoch 93/100:\n",
      "Average Train Loss: 0.0435\n",
      "Average Val Loss: 0.0382\n",
      "Validation Accuracy: 98.93%\n"
     ]
    },
    {
     "name": "stderr",
     "output_type": "stream",
     "text": [
      "Epoch 94/100: 100%|██████████| 375/375 [00:29<00:00, 12.60it/s, train_loss=0.0137]\n"
     ]
    },
    {
     "name": "stdout",
     "output_type": "stream",
     "text": [
      "Epoch 94/100:\n",
      "Average Train Loss: 0.0441\n",
      "Average Val Loss: 0.0365\n",
      "Validation Accuracy: 98.87%\n"
     ]
    },
    {
     "name": "stderr",
     "output_type": "stream",
     "text": [
      "Epoch 95/100: 100%|██████████| 375/375 [00:29<00:00, 12.69it/s, train_loss=0.0112]\n"
     ]
    },
    {
     "name": "stdout",
     "output_type": "stream",
     "text": [
      "Epoch 95/100:\n",
      "Average Train Loss: 0.0442\n",
      "Average Val Loss: 0.0355\n",
      "Validation Accuracy: 98.96%\n"
     ]
    },
    {
     "name": "stderr",
     "output_type": "stream",
     "text": [
      "Epoch 96/100: 100%|██████████| 375/375 [00:29<00:00, 12.80it/s, train_loss=0.0393]\n"
     ]
    },
    {
     "name": "stdout",
     "output_type": "stream",
     "text": [
      "Epoch 96/100:\n",
      "Average Train Loss: 0.0442\n",
      "Average Val Loss: 0.0359\n",
      "Validation Accuracy: 98.94%\n"
     ]
    },
    {
     "name": "stderr",
     "output_type": "stream",
     "text": [
      "Epoch 97/100: 100%|██████████| 375/375 [00:29<00:00, 12.92it/s, train_loss=0.0092]\n"
     ]
    },
    {
     "name": "stdout",
     "output_type": "stream",
     "text": [
      "Epoch 97/100:\n",
      "Average Train Loss: 0.0461\n",
      "Average Val Loss: 0.0346\n",
      "Validation Accuracy: 98.90%\n"
     ]
    },
    {
     "name": "stderr",
     "output_type": "stream",
     "text": [
      "Epoch 98/100: 100%|██████████| 375/375 [00:30<00:00, 12.44it/s, train_loss=0.0082]\n"
     ]
    },
    {
     "name": "stdout",
     "output_type": "stream",
     "text": [
      "Epoch 98/100:\n",
      "Average Train Loss: 0.0463\n",
      "Average Val Loss: 0.0358\n",
      "Validation Accuracy: 98.93%\n"
     ]
    },
    {
     "name": "stderr",
     "output_type": "stream",
     "text": [
      "Epoch 99/100: 100%|██████████| 375/375 [00:29<00:00, 12.59it/s, train_loss=0.0330]\n"
     ]
    },
    {
     "name": "stdout",
     "output_type": "stream",
     "text": [
      "Epoch 99/100:\n",
      "Average Train Loss: 0.0460\n",
      "Average Val Loss: 0.0336\n",
      "Validation Accuracy: 98.96%\n"
     ]
    },
    {
     "name": "stderr",
     "output_type": "stream",
     "text": [
      "Epoch 100/100: 100%|██████████| 375/375 [00:29<00:00, 12.55it/s, train_loss=0.0291]\n"
     ]
    },
    {
     "name": "stdout",
     "output_type": "stream",
     "text": [
      "Epoch 100/100:\n",
      "Average Train Loss: 0.0456\n",
      "Average Val Loss: 0.0366\n",
      "Validation Accuracy: 98.92%\n"
     ]
    },
    {
     "data": {
      "image/png": "[encoded data removed]",
      "text/plain": [
       "<Figure size 1000x500 with 1 Axes>"
      ]
     },
     "metadata": {},
     "output_type": "display_data"
    },
    {
     "name": "stdout",
     "output_type": "stream",
     "text": [
      "\n",
      "Test Results:\n",
      "Test Loss: 0.0279\n",
      "Test Accuracy: 99.08%\n"
     ]
    }
   ],
   "source": [
    "class ResidualBlock(nn.Module):\n",
    "    def __init__(self, in_features, out_features, dropout_rate):\n",
    "        super().__init__()\n",
    "        \n",
    "        self.block = nn.Sequential(\n",
    "            nn.Linear(in_features, out_features),\n",
    "            nn.BatchNorm1d(out_features),\n",
    "            nn.GELU(),\n",
    "            nn.Dropout(dropout_rate),\n",
    "            nn.Linear(out_features, out_features),\n",
    "            nn.BatchNorm1d(out_features),\n",
    "            nn.GELU(),\n",
    "            nn.Dropout(dropout_rate)\n",
    "        )\n",
    "        \n",
    "        self.shortcut = nn.Sequential()\n",
    "        if in_features != out_features:\n",
    "            self.shortcut = nn.Sequential(\n",
    "                nn.Linear(in_features, out_features),\n",
    "                nn.BatchNorm1d(out_features)\n",
    "            )\n",
    "    \n",
    "    def forward(self, x):\n",
    "        return self.block(x) + self.shortcut(x)\n",
    "\n",
    "class ComplexFFNN(nn.Module):\n",
    "    def __init__(self, input_size, output_size):\n",
    "        super().__init__()\n",
    "        \n",
    "        self.hidden_sizes = [512, 1024, 2048, 1024, 512, 256, 128]\n",
    "        self.dropout_rate = 0.3\n",
    "        \n",
    "        self.input_block = nn.Sequential(\n",
    "            nn.Linear(input_size, self.hidden_sizes[0]),\n",
    "            nn.BatchNorm1d(self.hidden_sizes[0]),\n",
    "            nn.GELU(),\n",
    "            nn.Dropout(self.dropout_rate)\n",
    "        )\n",
    "        \n",
    "        self.hidden_layers = nn.ModuleList()\n",
    "        for i in range(len(self.hidden_sizes)-1):\n",
    "            self.hidden_layers.append(\n",
    "                ResidualBlock(\n",
    "                    self.hidden_sizes[i],\n",
    "                    self.hidden_sizes[i+1],\n",
    "                    self.dropout_rate\n",
    "                )\n",
    "            )\n",
    "        \n",
    "        self.output_block = nn.Sequential(\n",
    "            nn.Linear(self.hidden_sizes[-1], output_size),\n",
    "            nn.LogSoftmax(dim=1)\n",
    "        )\n",
    "        \n",
    "        self.apply(self._init_weights)\n",
    "    \n",
    "    def _init_weights(self, module):\n",
    "        if isinstance(module, nn.Linear):\n",
    "            nn.init.kaiming_normal_(module.weight, mode='fan_out', nonlinearity='relu')\n",
    "            if module.bias is not None:\n",
    "                nn.init.zeros_(module.bias)\n",
    "    \n",
    "    def forward(self, x):\n",
    "        x = self.input_block(x)\n",
    "        for layer in self.hidden_layers:\n",
    "            x = layer(x)\n",
    "        return self.output_block(x)\n",
    "\n",
    "def train_model(model, train_loader, val_loader, num_epochs, device, learning_rate=3e-4):\n",
    "    model = model.to(device)\n",
    "    criterion = nn.NLLLoss()\n",
    "    optimizer = torch.optim.AdamW(model.parameters(), lr=learning_rate, weight_decay=0.01)\n",
    "    scheduler = OneCycleLR(\n",
    "        optimizer,\n",
    "        max_lr=learning_rate,\n",
    "        epochs=num_epochs,\n",
    "        steps_per_epoch=len(train_loader),\n",
    "        pct_start=0.3,\n",
    "        div_factor=25.0\n",
    "    )\n",
    "    \n",
    "    best_val_loss = float('inf')\n",
    "    train_losses = []\n",
    "    val_losses = []\n",
    "    patience = 10\n",
    "    patience_counter = 0\n",
    "    \n",
    "    for epoch in range(num_epochs):\n",
    "        # Training\n",
    "        model.train()\n",
    "        epoch_train_losses = []\n",
    "        \n",
    "        with tqdm(train_loader, desc=f'Epoch {epoch+1}/{num_epochs}') as pbar:\n",
    "            for batch_idx, (data, target) in enumerate(pbar):\n",
    "                data, target = data.to(device), target.to(device)\n",
    "                data = data.view(data.size(0), -1)  # Flatten the images\n",
    "                \n",
    "                optimizer.zero_grad()\n",
    "                output = model(data)\n",
    "                loss = criterion(output, target)\n",
    "                \n",
    "                loss.backward()\n",
    "                torch.nn.utils.clip_grad_norm_(model.parameters(), 1.0)\n",
    "                optimizer.step()\n",
    "                scheduler.step()\n",
    "                \n",
    "                epoch_train_losses.append(loss.item())\n",
    "                pbar.set_postfix({'train_loss': f'{loss.item():.4f}'})\n",
    "        \n",
    "        avg_train_loss = np.mean(epoch_train_losses)\n",
    "        train_losses.append(avg_train_loss)\n",
    "        \n",
    "        # Validation\n",
    "        model.eval()\n",
    "        val_epoch_losses = []\n",
    "        correct = 0\n",
    "        total = 0\n",
    "        \n",
    "        with torch.no_grad():\n",
    "            for data, target in val_loader:\n",
    "                data, target = data.to(device), target.to(device)\n",
    "                data = data.view(data.size(0), -1)  # Flatten the images\n",
    "                \n",
    "                output = model(data)\n",
    "                loss = criterion(output, target)\n",
    "                val_epoch_losses.append(loss.item())\n",
    "                \n",
    "                _, predicted = torch.max(output.data, 1)\n",
    "                total += target.size(0)\n",
    "                correct += (predicted == target).sum().item()\n",
    "        \n",
    "        avg_val_loss = np.mean(val_epoch_losses)\n",
    "        val_losses.append(avg_val_loss)\n",
    "        accuracy = 100 * correct / total\n",
    "        \n",
    "        print(f'Epoch {epoch+1}/{num_epochs}:')\n",
    "        print(f'Average Train Loss: {avg_train_loss:.4f}')\n",
    "        print(f'Average Val Loss: {avg_val_loss:.4f}')\n",
    "        print(f'Validation Accuracy: {accuracy:.2f}%')\n",
    "        \n",
    "        # Early stopping\n",
    "        if avg_val_loss < best_val_loss:\n",
    "            best_val_loss = avg_val_loss\n",
    "            torch.save(model.state_dict(), 'best_model.pt')\n",
    "            patience_counter = 0\n",
    "        else:\n",
    "            patience_counter += 1\n",
    "            \n",
    "        if patience_counter >= patience:\n",
    "            print(f'Early stopping triggered after {epoch+1} epochs')\n",
    "            break\n",
    "    \n",
    "    return train_losses, val_losses\n",
    "\n",
    "def evaluate_model(model, test_loader, device):\n",
    "    model.eval()\n",
    "    criterion = nn.NLLLoss()\n",
    "    test_loss = 0\n",
    "    correct = 0\n",
    "    total = 0\n",
    "    \n",
    "    with torch.no_grad():\n",
    "        for data, target in test_loader:\n",
    "            data, target = data.to(device), target.to(device)\n",
    "            data = data.view(data.size(0), -1)  # Flatten the images\n",
    "            \n",
    "            output = model(data)\n",
    "            test_loss += criterion(output, target).item()\n",
    "            _, predicted = torch.max(output.data, 1)\n",
    "            total += target.size(0)\n",
    "            correct += (predicted == target).sum().item()\n",
    "    \n",
    "    test_loss /= len(test_loader)\n",
    "    accuracy = 100 * correct / total\n",
    "    \n",
    "    return test_loss, accuracy\n",
    "\n",
    "if __name__ == \"__main__\":\n",
    "    # Set device\n",
    "    device = torch.device('cuda' if torch.cuda.is_available() else 'cpu')\n",
    "    print(f'Using device: {device}')\n",
    "    \n",
    "    # Data loading and preprocessing\n",
    "    transform = transforms.Compose([\n",
    "        transforms.ToTensor(),\n",
    "        transforms.Normalize((0.5,), (0.5,)),\n",
    "        transforms.RandomRotation(10),\n",
    "        transforms.RandomAffine(degrees=0, translate=(0.1, 0.1))\n",
    "    ])\n",
    "    \n",
    "    # Load MNIST Dataset\n",
    "    train_dataset = datasets.MNIST(root='../data', train=True, transform=transform, download=True)\n",
    "    test_dataset = datasets.MNIST(root='../data', train=False, transform=transform, download=True)\n",
    "    \n",
    "    # Split training data into train and validation\n",
    "    train_size = int(0.8 * len(train_dataset))\n",
    "    val_size = len(train_dataset) - train_size\n",
    "    train_dataset, val_dataset = torch.utils.data.random_split(train_dataset, [train_size, val_size])\n",
    "    \n",
    "    # Create data loaders\n",
    "    train_loader = DataLoader(train_dataset, batch_size=128, shuffle=True, num_workers=4, pin_memory=True)\n",
    "    val_loader = DataLoader(val_dataset, batch_size=256, num_workers=4, pin_memory=True)\n",
    "    test_loader = DataLoader(test_dataset, batch_size=256, num_workers=4, pin_memory=True)\n",
    "    \n",
    "    # Initialize model\n",
    "    model = ComplexFFNN(input_size=784, output_size=10)\n",
    "    \n",
    "    # Train model\n",
    "    num_epochs = 100\n",
    "    train_losses, val_losses = train_model(model, train_loader, val_loader, num_epochs, device)\n",
    "    \n",
    "    # Plot training history\n",
    "    plt.figure(figsize=(10, 5))\n",
    "    plt.plot(train_losses, label='Train Loss')\n",
    "    plt.plot(val_losses, label='Validation Loss')\n",
    "    plt.xlabel('Epoch')\n",
    "    plt.ylabel('Loss')\n",
    "    plt.title('Training History')\n",
    "    plt.legend()\n",
    "    plt.show()\n",
    "    \n",
    "    # Load best model and evaluate\n",
    "    model.load_state_dict(torch.load('best_model.pt'))\n",
    "    test_loss, test_accuracy = evaluate_model(model, test_loader, device)\n",
    "    print(f'\\nTest Results:')\n",
    "    print(f'Test Loss: {test_loss:.4f}')\n",
    "    print(f'Test Accuracy: {test_accuracy:.2f}%')"
   ]
  },
  {
   "cell_type": "code",
   "execution_count": 10,
   "metadata": {},
   "outputs": [
    {
     "name": "stdout",
     "output_type": "stream",
     "text": [
      "\n",
      "Test Results:\n",
      "Test Loss: 0.0305\n",
      "Test Accuracy: 99.00%\n"
     ]
    },
    {
     "data": {
      "image/png": "[encoded data removed]",
      "text/plain": [
       "<Figure size 1000x800 with 2 Axes>"
      ]
     },
     "metadata": {},
     "output_type": "display_data"
    },
    {
     "name": "stdout",
     "output_type": "stream",
     "text": [
      "\n",
      "Classification Report:\n",
      "              precision    recall  f1-score   support\n",
      "\n",
      "           0       0.99      1.00      0.99       980\n",
      "           1       0.99      0.99      0.99      1135\n",
      "           2       0.99      0.99      0.99      1032\n",
      "           3       0.99      0.99      0.99      1010\n",
      "           4       0.99      0.99      0.99       982\n",
      "           5       0.99      0.98      0.99       892\n",
      "           6       0.99      0.99      0.99       958\n",
      "           7       0.99      0.99      0.99      1028\n",
      "           8       0.99      0.99      0.99       974\n",
      "           9       0.99      0.98      0.98      1009\n",
      "\n",
      "    accuracy                           0.99     10000\n",
      "   macro avg       0.99      0.99      0.99     10000\n",
      "weighted avg       0.99      0.99      0.99     10000\n",
      "\n"
     ]
    }
   ],
   "source": [
    "from sklearn.metrics import confusion_matrix\n",
    "import seaborn as sns\n",
    "\n",
    "def plot_confusion_matrix(model, test_loader, device, class_names=None):\n",
    "    \"\"\"\n",
    "    Compute and plot confusion matrix.\n",
    "    \n",
    "    Args:\n",
    "        model: trained PyTorch model\n",
    "        test_loader: DataLoader containing test data\n",
    "        device: device to run the model on\n",
    "        class_names: list of class names (optional)\n",
    "    \"\"\"\n",
    "    model.eval()\n",
    "    y_true = []\n",
    "    y_pred = []\n",
    "    \n",
    "    with torch.no_grad():\n",
    "        for data, target in test_loader:\n",
    "            data, target = data.to(device), target.to(device)\n",
    "            data = data.view(data.size(0), -1)  # Flatten the images\n",
    "            \n",
    "            output = model(data)\n",
    "            _, predicted = torch.max(output.data, 1)\n",
    "            \n",
    "            y_true.extend(target.cpu().numpy())\n",
    "            y_pred.extend(predicted.cpu().numpy())\n",
    "    \n",
    "    # Compute confusion matrix\n",
    "    cm = confusion_matrix(y_true, y_pred)\n",
    "    \n",
    "    # Plot confusion matrix\n",
    "    plt.figure(figsize=(10, 8))\n",
    "    sns.heatmap(cm, annot=True, fmt='d', cmap='Blues',\n",
    "                xticklabels=class_names if class_names else \"auto\",\n",
    "                yticklabels=class_names if class_names else \"auto\")\n",
    "    plt.title('Confusion Matrix')\n",
    "    plt.ylabel('True Label')\n",
    "    plt.xlabel('Predicted Label')\n",
    "    plt.show()\n",
    "    \n",
    "    # Print classification report\n",
    "    from sklearn.metrics import classification_report\n",
    "    print(\"\\nClassification Report:\")\n",
    "    print(classification_report(y_true, y_pred, \n",
    "                              target_names=class_names if class_names else None))\n",
    "\n",
    "if __name__ == \"__main__\":\n",
    "    # Load best model and evaluate\n",
    "    model.load_state_dict(torch.load('best_model.pt'))\n",
    "    test_loss, test_accuracy = evaluate_model(model, test_loader, device)\n",
    "    print(f'\\nTest Results:')\n",
    "    print(f'Test Loss: {test_loss:.4f}')\n",
    "    print(f'Test Accuracy: {test_accuracy:.2f}%')\n",
    "    \n",
    "    # Plot confusion matrix\n",
    "    class_names = ['0', '1', '2', '3', '4', '5', '6', '7', '8', '9']\n",
    "    plot_confusion_matrix(model, test_loader, device, class_names)"
   ]
  }
 ],
 "metadata": {
  "kernelspec": {
   "display_name": "base",
   "language": "python",
   "name": "python3"
  },
  "language_info": {
   "codemirror_mode": {
    "name": "ipython",
    "version": 3
   },
   "file_extension": ".py",
   "mimetype": "text/x-python",
   "name": "python",
   "nbconvert_exporter": "python",
   "pygments_lexer": "ipython3",
   "version": "3.12.2"
  }
 },
 "nbformat": 4,
 "nbformat_minor": 2
}
